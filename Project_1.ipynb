{
 "cells": [
  {
   "cell_type": "markdown",
   "metadata": {},
   "source": [
    " # Project 1"
   ]
  },
  {
   "cell_type": "markdown",
   "metadata": {},
   "source": [
    "### Challenge 1"
   ]
  },
  {
   "cell_type": "code",
   "execution_count": 134,
   "metadata": {},
   "outputs": [],
   "source": [
    "import pandas as pd\n",
    "import numpy as np\n",
    "import matplotlib as plt\n",
    "%matplotlib inline"
   ]
  },
  {
   "cell_type": "code",
   "execution_count": 3,
   "metadata": {},
   "outputs": [],
   "source": [
    "data_1_path = 'http://web.mta.info/developers/data/nyct/turnstile/turnstile_200919.txt'\n",
    "data_2_path = 'http://web.mta.info/developers/data/nyct/turnstile/turnstile_200912.txt'\n",
    "data_3_path = 'http://web.mta.info/developers/data/nyct/turnstile/turnstile_200905.txt'\n",
    "data_4_path = 'http://web.mta.info/developers/data/nyct/turnstile/turnstile_200829.txt'"
   ]
  },
  {
   "cell_type": "code",
   "execution_count": 4,
   "metadata": {},
   "outputs": [],
   "source": [
    "df1 = pd.read_csv(data_1_path)\n",
    "df2 = pd.read_csv(data_2_path)\n",
    "df3 = pd.read_csv(data_3_path)\n",
    "df4 = pd.read_csv(data_4_path)"
   ]
  },
  {
   "cell_type": "code",
   "execution_count": 5,
   "metadata": {},
   "outputs": [
    {
     "data": {
      "text/plain": [
       "((209661, 11), (210585, 11), (208051, 11), (217832, 11))"
      ]
     },
     "execution_count": 5,
     "metadata": {},
     "output_type": "execute_result"
    }
   ],
   "source": [
    "df1.shape, df2.shape, df3.shape, df4.shape"
   ]
  },
  {
   "cell_type": "code",
   "execution_count": null,
   "metadata": {},
   "outputs": [],
   "source": []
  },
  {
   "cell_type": "code",
   "execution_count": 6,
   "metadata": {},
   "outputs": [
    {
     "data": {
      "text/html": [
       "<div>\n",
       "<style scoped>\n",
       "    .dataframe tbody tr th:only-of-type {\n",
       "        vertical-align: middle;\n",
       "    }\n",
       "\n",
       "    .dataframe tbody tr th {\n",
       "        vertical-align: top;\n",
       "    }\n",
       "\n",
       "    .dataframe thead th {\n",
       "        text-align: right;\n",
       "    }\n",
       "</style>\n",
       "<table border=\"1\" class=\"dataframe\">\n",
       "  <thead>\n",
       "    <tr style=\"text-align: right;\">\n",
       "      <th></th>\n",
       "      <th>C/A</th>\n",
       "      <th>UNIT</th>\n",
       "      <th>SCP</th>\n",
       "      <th>STATION</th>\n",
       "      <th>LINENAME</th>\n",
       "      <th>DIVISION</th>\n",
       "      <th>DATE</th>\n",
       "      <th>TIME</th>\n",
       "      <th>DESC</th>\n",
       "      <th>ENTRIES</th>\n",
       "      <th>EXITS</th>\n",
       "    </tr>\n",
       "  </thead>\n",
       "  <tbody>\n",
       "    <tr>\n",
       "      <th>0</th>\n",
       "      <td>A002</td>\n",
       "      <td>R051</td>\n",
       "      <td>02-00-00</td>\n",
       "      <td>59 ST</td>\n",
       "      <td>NQR456W</td>\n",
       "      <td>BMT</td>\n",
       "      <td>09/12/2020</td>\n",
       "      <td>00:00:00</td>\n",
       "      <td>REGULAR</td>\n",
       "      <td>7457064</td>\n",
       "      <td>2535856</td>\n",
       "    </tr>\n",
       "    <tr>\n",
       "      <th>1</th>\n",
       "      <td>A002</td>\n",
       "      <td>R051</td>\n",
       "      <td>02-00-00</td>\n",
       "      <td>59 ST</td>\n",
       "      <td>NQR456W</td>\n",
       "      <td>BMT</td>\n",
       "      <td>09/12/2020</td>\n",
       "      <td>04:00:00</td>\n",
       "      <td>REGULAR</td>\n",
       "      <td>7457067</td>\n",
       "      <td>2535861</td>\n",
       "    </tr>\n",
       "    <tr>\n",
       "      <th>2</th>\n",
       "      <td>A002</td>\n",
       "      <td>R051</td>\n",
       "      <td>02-00-00</td>\n",
       "      <td>59 ST</td>\n",
       "      <td>NQR456W</td>\n",
       "      <td>BMT</td>\n",
       "      <td>09/12/2020</td>\n",
       "      <td>08:00:00</td>\n",
       "      <td>REGULAR</td>\n",
       "      <td>7457078</td>\n",
       "      <td>2535876</td>\n",
       "    </tr>\n",
       "    <tr>\n",
       "      <th>3</th>\n",
       "      <td>A002</td>\n",
       "      <td>R051</td>\n",
       "      <td>02-00-00</td>\n",
       "      <td>59 ST</td>\n",
       "      <td>NQR456W</td>\n",
       "      <td>BMT</td>\n",
       "      <td>09/12/2020</td>\n",
       "      <td>12:00:00</td>\n",
       "      <td>REGULAR</td>\n",
       "      <td>7457119</td>\n",
       "      <td>2535920</td>\n",
       "    </tr>\n",
       "    <tr>\n",
       "      <th>4</th>\n",
       "      <td>A002</td>\n",
       "      <td>R051</td>\n",
       "      <td>02-00-00</td>\n",
       "      <td>59 ST</td>\n",
       "      <td>NQR456W</td>\n",
       "      <td>BMT</td>\n",
       "      <td>09/12/2020</td>\n",
       "      <td>12:00:00</td>\n",
       "      <td>RECOVR AUD</td>\n",
       "      <td>26786</td>\n",
       "      <td>4009</td>\n",
       "    </tr>\n",
       "  </tbody>\n",
       "</table>\n",
       "</div>"
      ],
      "text/plain": [
       "    C/A  UNIT       SCP STATION LINENAME DIVISION        DATE      TIME  \\\n",
       "0  A002  R051  02-00-00   59 ST  NQR456W      BMT  09/12/2020  00:00:00   \n",
       "1  A002  R051  02-00-00   59 ST  NQR456W      BMT  09/12/2020  04:00:00   \n",
       "2  A002  R051  02-00-00   59 ST  NQR456W      BMT  09/12/2020  08:00:00   \n",
       "3  A002  R051  02-00-00   59 ST  NQR456W      BMT  09/12/2020  12:00:00   \n",
       "4  A002  R051  02-00-00   59 ST  NQR456W      BMT  09/12/2020  12:00:00   \n",
       "\n",
       "         DESC  ENTRIES  \\\n",
       "0     REGULAR  7457064   \n",
       "1     REGULAR  7457067   \n",
       "2     REGULAR  7457078   \n",
       "3     REGULAR  7457119   \n",
       "4  RECOVR AUD    26786   \n",
       "\n",
       "   EXITS                                                                 \n",
       "0                                            2535856                     \n",
       "1                                            2535861                     \n",
       "2                                            2535876                     \n",
       "3                                            2535920                     \n",
       "4                                               4009                     "
      ]
     },
     "execution_count": 6,
     "metadata": {},
     "output_type": "execute_result"
    }
   ],
   "source": [
    "mta_df = pd.concat([df1, df2, df3, df4])\n",
    "\n",
    "mta_df.head()"
   ]
  },
  {
   "cell_type": "code",
   "execution_count": 7,
   "metadata": {},
   "outputs": [
    {
     "data": {
      "text/plain": [
       "(846129, 11)"
      ]
     },
     "execution_count": 7,
     "metadata": {},
     "output_type": "execute_result"
    }
   ],
   "source": [
    "mta_df.shape"
   ]
  },
  {
   "cell_type": "markdown",
   "metadata": {},
   "source": [
    "### Challenge 2"
   ]
  },
  {
   "cell_type": "code",
   "execution_count": 8,
   "metadata": {},
   "outputs": [],
   "source": [
    "# Adding date-time column\n",
    "mta_df[\"DATE_TIME\"] = pd.to_datetime(mta_df['DATE'] + ' ' + mta_df['TIME'])\n",
    "\n",
    "mta_df[['DATE_TIME']]"
   ]
  },
  {
   "cell_type": "code",
   "execution_count": 13,
   "metadata": {},
   "outputs": [
    {
     "data": {
      "text/plain": [
       "dtype('<M8[ns]')"
      ]
     },
     "execution_count": 13,
     "metadata": {},
     "output_type": "execute_result"
    }
   ],
   "source": [
    "mta_df['DATE_TIME'].dtype"
   ]
  },
  {
   "cell_type": "markdown",
   "metadata": {},
   "source": [
    "### Challenge 3"
   ]
  },
  {
   "cell_type": "code",
   "execution_count": 16,
   "metadata": {},
   "outputs": [],
   "source": [
    "# finding all unique turnstiles\n",
    "\n",
    "mta_df['Turnstile'] = mta_df['C/A'] + ' ' + mta_df['UNIT'] + ' ' + mta_df['SCP'] + ' ' + mta_df['STATION']"
   ]
  },
  {
   "cell_type": "code",
   "execution_count": 17,
   "metadata": {},
   "outputs": [
    {
     "data": {
      "text/plain": [
       "N343 R019 00-05-00 JAMAICA 179 ST     583\n",
       "N343 R019 00-05-01 JAMAICA 179 ST     583\n",
       "N343 R019 00-00-00 JAMAICA 179 ST     582\n",
       "N343 R019 00-00-09 JAMAICA 179 ST     582\n",
       "N343 R019 00-00-0A JAMAICA 179 ST     582\n",
       "                                     ... \n",
       "R138 R293 00-05-01 34 ST-PENN STA       2\n",
       "R138 R293 00-05-00 34 ST-PENN STA       2\n",
       "R627 R063 00-03-05 SUTTER AV-RUTLD      1\n",
       "PTH20 R549 03-00-08 NEWARK HM HE        1\n",
       "R125 R189 00-10-01 CHRISTOPHER ST       1\n",
       "Name: Turnstile, Length: 4978, dtype: int64"
      ]
     },
     "execution_count": 17,
     "metadata": {},
     "output_type": "execute_result"
    }
   ],
   "source": [
    "(mta_df['Turnstile']).value_counts()"
   ]
  },
  {
   "cell_type": "code",
   "execution_count": 108,
   "metadata": {},
   "outputs": [
    {
     "data": {
      "text/html": [
       "<div>\n",
       "<style scoped>\n",
       "    .dataframe tbody tr th:only-of-type {\n",
       "        vertical-align: middle;\n",
       "    }\n",
       "\n",
       "    .dataframe tbody tr th {\n",
       "        vertical-align: top;\n",
       "    }\n",
       "\n",
       "    .dataframe thead th {\n",
       "        text-align: right;\n",
       "    }\n",
       "</style>\n",
       "<table border=\"1\" class=\"dataframe\">\n",
       "  <thead>\n",
       "    <tr style=\"text-align: right;\">\n",
       "      <th></th>\n",
       "      <th>Turnstile</th>\n",
       "      <th>DATE</th>\n",
       "      <th>ENTRIES</th>\n",
       "      <th>EXITS</th>\n",
       "    </tr>\n",
       "  </thead>\n",
       "  <tbody>\n",
       "    <tr>\n",
       "      <th>0</th>\n",
       "      <td>A002 R051 02-00-00 59 ST</td>\n",
       "      <td>08/22/2020</td>\n",
       "      <td>44687289</td>\n",
       "      <td>15193417</td>\n",
       "    </tr>\n",
       "    <tr>\n",
       "      <th>1</th>\n",
       "      <td>A002 R051 02-00-00 59 ST</td>\n",
       "      <td>08/23/2020</td>\n",
       "      <td>44688978</td>\n",
       "      <td>15194051</td>\n",
       "    </tr>\n",
       "    <tr>\n",
       "      <th>2</th>\n",
       "      <td>A002 R051 02-00-00 59 ST</td>\n",
       "      <td>08/24/2020</td>\n",
       "      <td>44690684</td>\n",
       "      <td>15194835</td>\n",
       "    </tr>\n",
       "    <tr>\n",
       "      <th>3</th>\n",
       "      <td>A002 R051 02-00-00 59 ST</td>\n",
       "      <td>08/25/2020</td>\n",
       "      <td>44693549</td>\n",
       "      <td>15195987</td>\n",
       "    </tr>\n",
       "    <tr>\n",
       "      <th>4</th>\n",
       "      <td>A002 R051 02-00-00 59 ST</td>\n",
       "      <td>08/26/2020</td>\n",
       "      <td>44696514</td>\n",
       "      <td>15197069</td>\n",
       "    </tr>\n",
       "  </tbody>\n",
       "</table>\n",
       "</div>"
      ],
      "text/plain": [
       "                  Turnstile        DATE   ENTRIES  \\\n",
       "0  A002 R051 02-00-00 59 ST  08/22/2020  44687289   \n",
       "1  A002 R051 02-00-00 59 ST  08/23/2020  44688978   \n",
       "2  A002 R051 02-00-00 59 ST  08/24/2020  44690684   \n",
       "3  A002 R051 02-00-00 59 ST  08/25/2020  44693549   \n",
       "4  A002 R051 02-00-00 59 ST  08/26/2020  44696514   \n",
       "\n",
       "   EXITS                                                                 \n",
       "0                                           15193417                     \n",
       "1                                           15194051                     \n",
       "2                                           15194835                     \n",
       "3                                           15195987                     \n",
       "4                                           15197069                     "
      ]
     },
     "execution_count": 108,
     "metadata": {},
     "output_type": "execute_result"
    }
   ],
   "source": [
    "t_d_grouped_df_2 = mta_df.groupby(['Turnstile', 'DATE'], as_index = False).sum()\n",
    "\n",
    "# t_d_grouped_df_2 = turnstile_date_grouped_df.sum()\n",
    "\n",
    "t_d_grouped_df_2.head()"
   ]
  },
  {
   "cell_type": "code",
   "execution_count": 109,
   "metadata": {},
   "outputs": [],
   "source": [
    "t_d_grouped_df_2['non_cum_entries'] = t_d_grouped_df_2['ENTRIES'].diff()"
   ]
  },
  {
   "cell_type": "code",
   "execution_count": 110,
   "metadata": {},
   "outputs": [
    {
     "data": {
      "text/html": [
       "<div>\n",
       "<style scoped>\n",
       "    .dataframe tbody tr th:only-of-type {\n",
       "        vertical-align: middle;\n",
       "    }\n",
       "\n",
       "    .dataframe tbody tr th {\n",
       "        vertical-align: top;\n",
       "    }\n",
       "\n",
       "    .dataframe thead th {\n",
       "        text-align: right;\n",
       "    }\n",
       "</style>\n",
       "<table border=\"1\" class=\"dataframe\">\n",
       "  <thead>\n",
       "    <tr style=\"text-align: right;\">\n",
       "      <th></th>\n",
       "      <th>Turnstile</th>\n",
       "      <th>DATE</th>\n",
       "      <th>ENTRIES</th>\n",
       "      <th>EXITS</th>\n",
       "      <th>non_cum_entries</th>\n",
       "    </tr>\n",
       "  </thead>\n",
       "  <tbody>\n",
       "    <tr>\n",
       "      <th>0</th>\n",
       "      <td>A002 R051 02-00-00 59 ST</td>\n",
       "      <td>08/22/2020</td>\n",
       "      <td>44687289</td>\n",
       "      <td>15193417</td>\n",
       "      <td>NaN</td>\n",
       "    </tr>\n",
       "    <tr>\n",
       "      <th>1</th>\n",
       "      <td>A002 R051 02-00-00 59 ST</td>\n",
       "      <td>08/23/2020</td>\n",
       "      <td>44688978</td>\n",
       "      <td>15194051</td>\n",
       "      <td>1689.0</td>\n",
       "    </tr>\n",
       "    <tr>\n",
       "      <th>2</th>\n",
       "      <td>A002 R051 02-00-00 59 ST</td>\n",
       "      <td>08/24/2020</td>\n",
       "      <td>44690684</td>\n",
       "      <td>15194835</td>\n",
       "      <td>1706.0</td>\n",
       "    </tr>\n",
       "    <tr>\n",
       "      <th>3</th>\n",
       "      <td>A002 R051 02-00-00 59 ST</td>\n",
       "      <td>08/25/2020</td>\n",
       "      <td>44693549</td>\n",
       "      <td>15195987</td>\n",
       "      <td>2865.0</td>\n",
       "    </tr>\n",
       "    <tr>\n",
       "      <th>4</th>\n",
       "      <td>A002 R051 02-00-00 59 ST</td>\n",
       "      <td>08/26/2020</td>\n",
       "      <td>44696514</td>\n",
       "      <td>15197069</td>\n",
       "      <td>2965.0</td>\n",
       "    </tr>\n",
       "  </tbody>\n",
       "</table>\n",
       "</div>"
      ],
      "text/plain": [
       "                  Turnstile        DATE   ENTRIES  \\\n",
       "0  A002 R051 02-00-00 59 ST  08/22/2020  44687289   \n",
       "1  A002 R051 02-00-00 59 ST  08/23/2020  44688978   \n",
       "2  A002 R051 02-00-00 59 ST  08/24/2020  44690684   \n",
       "3  A002 R051 02-00-00 59 ST  08/25/2020  44693549   \n",
       "4  A002 R051 02-00-00 59 ST  08/26/2020  44696514   \n",
       "\n",
       "   EXITS                                                                 \\\n",
       "0                                           15193417                      \n",
       "1                                           15194051                      \n",
       "2                                           15194835                      \n",
       "3                                           15195987                      \n",
       "4                                           15197069                      \n",
       "\n",
       "   non_cum_entries  \n",
       "0              NaN  \n",
       "1           1689.0  \n",
       "2           1706.0  \n",
       "3           2865.0  \n",
       "4           2965.0  "
      ]
     },
     "execution_count": 110,
     "metadata": {},
     "output_type": "execute_result"
    }
   ],
   "source": [
    "t_d_grouped_df_2.head()"
   ]
  },
  {
   "cell_type": "code",
   "execution_count": 111,
   "metadata": {},
   "outputs": [],
   "source": [
    "# Adding cumulative exits column\n",
    "\n",
    "t_d_grouped_df_2['non_cum_exits'] = t_d_grouped_df_2[t_d_grouped_df_2.columns[3]].diff()"
   ]
  },
  {
   "cell_type": "code",
   "execution_count": 112,
   "metadata": {},
   "outputs": [
    {
     "data": {
      "text/html": [
       "<div>\n",
       "<style scoped>\n",
       "    .dataframe tbody tr th:only-of-type {\n",
       "        vertical-align: middle;\n",
       "    }\n",
       "\n",
       "    .dataframe tbody tr th {\n",
       "        vertical-align: top;\n",
       "    }\n",
       "\n",
       "    .dataframe thead th {\n",
       "        text-align: right;\n",
       "    }\n",
       "</style>\n",
       "<table border=\"1\" class=\"dataframe\">\n",
       "  <thead>\n",
       "    <tr style=\"text-align: right;\">\n",
       "      <th></th>\n",
       "      <th>Turnstile</th>\n",
       "      <th>DATE</th>\n",
       "      <th>ENTRIES</th>\n",
       "      <th>EXITS</th>\n",
       "      <th>non_cum_entries</th>\n",
       "      <th>non_cum_exits</th>\n",
       "    </tr>\n",
       "  </thead>\n",
       "  <tbody>\n",
       "    <tr>\n",
       "      <th>0</th>\n",
       "      <td>A002 R051 02-00-00 59 ST</td>\n",
       "      <td>08/22/2020</td>\n",
       "      <td>44687289</td>\n",
       "      <td>15193417</td>\n",
       "      <td>NaN</td>\n",
       "      <td>NaN</td>\n",
       "    </tr>\n",
       "    <tr>\n",
       "      <th>1</th>\n",
       "      <td>A002 R051 02-00-00 59 ST</td>\n",
       "      <td>08/23/2020</td>\n",
       "      <td>44688978</td>\n",
       "      <td>15194051</td>\n",
       "      <td>1689.0</td>\n",
       "      <td>634.0</td>\n",
       "    </tr>\n",
       "    <tr>\n",
       "      <th>2</th>\n",
       "      <td>A002 R051 02-00-00 59 ST</td>\n",
       "      <td>08/24/2020</td>\n",
       "      <td>44690684</td>\n",
       "      <td>15194835</td>\n",
       "      <td>1706.0</td>\n",
       "      <td>784.0</td>\n",
       "    </tr>\n",
       "    <tr>\n",
       "      <th>3</th>\n",
       "      <td>A002 R051 02-00-00 59 ST</td>\n",
       "      <td>08/25/2020</td>\n",
       "      <td>44693549</td>\n",
       "      <td>15195987</td>\n",
       "      <td>2865.0</td>\n",
       "      <td>1152.0</td>\n",
       "    </tr>\n",
       "    <tr>\n",
       "      <th>4</th>\n",
       "      <td>A002 R051 02-00-00 59 ST</td>\n",
       "      <td>08/26/2020</td>\n",
       "      <td>44696514</td>\n",
       "      <td>15197069</td>\n",
       "      <td>2965.0</td>\n",
       "      <td>1082.0</td>\n",
       "    </tr>\n",
       "  </tbody>\n",
       "</table>\n",
       "</div>"
      ],
      "text/plain": [
       "                  Turnstile        DATE   ENTRIES  \\\n",
       "0  A002 R051 02-00-00 59 ST  08/22/2020  44687289   \n",
       "1  A002 R051 02-00-00 59 ST  08/23/2020  44688978   \n",
       "2  A002 R051 02-00-00 59 ST  08/24/2020  44690684   \n",
       "3  A002 R051 02-00-00 59 ST  08/25/2020  44693549   \n",
       "4  A002 R051 02-00-00 59 ST  08/26/2020  44696514   \n",
       "\n",
       "   EXITS                                                                 \\\n",
       "0                                           15193417                      \n",
       "1                                           15194051                      \n",
       "2                                           15194835                      \n",
       "3                                           15195987                      \n",
       "4                                           15197069                      \n",
       "\n",
       "   non_cum_entries  non_cum_exits  \n",
       "0              NaN            NaN  \n",
       "1           1689.0          634.0  \n",
       "2           1706.0          784.0  \n",
       "3           2865.0         1152.0  \n",
       "4           2965.0         1082.0  "
      ]
     },
     "execution_count": 112,
     "metadata": {},
     "output_type": "execute_result"
    }
   ],
   "source": [
    "t_d_grouped_df_2.head()"
   ]
  },
  {
   "cell_type": "markdown",
   "metadata": {},
   "source": [
    "### Challenge 4"
   ]
  },
  {
   "cell_type": "code",
   "execution_count": 123,
   "metadata": {
    "scrolled": true
   },
   "outputs": [
    {
     "data": {
      "text/html": [
       "<div>\n",
       "<style scoped>\n",
       "    .dataframe tbody tr th:only-of-type {\n",
       "        vertical-align: middle;\n",
       "    }\n",
       "\n",
       "    .dataframe tbody tr th {\n",
       "        vertical-align: top;\n",
       "    }\n",
       "\n",
       "    .dataframe thead th {\n",
       "        text-align: right;\n",
       "    }\n",
       "</style>\n",
       "<table border=\"1\" class=\"dataframe\">\n",
       "  <thead>\n",
       "    <tr style=\"text-align: right;\">\n",
       "      <th></th>\n",
       "      <th>Turnstile</th>\n",
       "      <th>DATE</th>\n",
       "      <th>ENTRIES</th>\n",
       "      <th>EXITS</th>\n",
       "      <th>non_cum_entries</th>\n",
       "      <th>non_cum_exits</th>\n",
       "    </tr>\n",
       "  </thead>\n",
       "  <tbody>\n",
       "    <tr>\n",
       "      <th>0</th>\n",
       "      <td>A002 R051 02-00-00 59 ST</td>\n",
       "      <td>08/22/2020</td>\n",
       "      <td>44687289</td>\n",
       "      <td>15193417</td>\n",
       "      <td>NaN</td>\n",
       "      <td>NaN</td>\n",
       "    </tr>\n",
       "    <tr>\n",
       "      <th>1</th>\n",
       "      <td>A002 R051 02-00-00 59 ST</td>\n",
       "      <td>08/23/2020</td>\n",
       "      <td>44688978</td>\n",
       "      <td>15194051</td>\n",
       "      <td>1689.0</td>\n",
       "      <td>634.0</td>\n",
       "    </tr>\n",
       "    <tr>\n",
       "      <th>2</th>\n",
       "      <td>A002 R051 02-00-00 59 ST</td>\n",
       "      <td>08/24/2020</td>\n",
       "      <td>44690684</td>\n",
       "      <td>15194835</td>\n",
       "      <td>1706.0</td>\n",
       "      <td>784.0</td>\n",
       "    </tr>\n",
       "    <tr>\n",
       "      <th>3</th>\n",
       "      <td>A002 R051 02-00-00 59 ST</td>\n",
       "      <td>08/25/2020</td>\n",
       "      <td>44693549</td>\n",
       "      <td>15195987</td>\n",
       "      <td>2865.0</td>\n",
       "      <td>1152.0</td>\n",
       "    </tr>\n",
       "    <tr>\n",
       "      <th>4</th>\n",
       "      <td>A002 R051 02-00-00 59 ST</td>\n",
       "      <td>08/26/2020</td>\n",
       "      <td>44696514</td>\n",
       "      <td>15197069</td>\n",
       "      <td>2965.0</td>\n",
       "      <td>1082.0</td>\n",
       "    </tr>\n",
       "    <tr>\n",
       "      <th>5</th>\n",
       "      <td>A002 R051 02-00-00 59 ST</td>\n",
       "      <td>08/27/2020</td>\n",
       "      <td>44699319</td>\n",
       "      <td>15198274</td>\n",
       "      <td>2805.0</td>\n",
       "      <td>1205.0</td>\n",
       "    </tr>\n",
       "    <tr>\n",
       "      <th>6</th>\n",
       "      <td>A002 R051 02-00-00 59 ST</td>\n",
       "      <td>08/28/2020</td>\n",
       "      <td>44702445</td>\n",
       "      <td>15199547</td>\n",
       "      <td>3126.0</td>\n",
       "      <td>1273.0</td>\n",
       "    </tr>\n",
       "    <tr>\n",
       "      <th>7</th>\n",
       "      <td>A002 R051 02-00-00 59 ST</td>\n",
       "      <td>08/29/2020</td>\n",
       "      <td>44705127</td>\n",
       "      <td>15200485</td>\n",
       "      <td>2682.0</td>\n",
       "      <td>938.0</td>\n",
       "    </tr>\n",
       "    <tr>\n",
       "      <th>8</th>\n",
       "      <td>A002 R051 02-00-00 59 ST</td>\n",
       "      <td>08/30/2020</td>\n",
       "      <td>44706856</td>\n",
       "      <td>15201071</td>\n",
       "      <td>1729.0</td>\n",
       "      <td>586.0</td>\n",
       "    </tr>\n",
       "    <tr>\n",
       "      <th>9</th>\n",
       "      <td>A002 R051 02-00-00 59 ST</td>\n",
       "      <td>08/31/2020</td>\n",
       "      <td>44708630</td>\n",
       "      <td>15201988</td>\n",
       "      <td>1774.0</td>\n",
       "      <td>917.0</td>\n",
       "    </tr>\n",
       "    <tr>\n",
       "      <th>10</th>\n",
       "      <td>A002 R051 02-00-00 59 ST</td>\n",
       "      <td>09/01/2020</td>\n",
       "      <td>44711777</td>\n",
       "      <td>15203251</td>\n",
       "      <td>3147.0</td>\n",
       "      <td>1263.0</td>\n",
       "    </tr>\n",
       "    <tr>\n",
       "      <th>11</th>\n",
       "      <td>A002 R051 02-00-00 59 ST</td>\n",
       "      <td>09/02/2020</td>\n",
       "      <td>44714663</td>\n",
       "      <td>15204492</td>\n",
       "      <td>2886.0</td>\n",
       "      <td>1241.0</td>\n",
       "    </tr>\n",
       "    <tr>\n",
       "      <th>12</th>\n",
       "      <td>A002 R051 02-00-00 59 ST</td>\n",
       "      <td>09/03/2020</td>\n",
       "      <td>44717913</td>\n",
       "      <td>15205746</td>\n",
       "      <td>3250.0</td>\n",
       "      <td>1254.0</td>\n",
       "    </tr>\n",
       "    <tr>\n",
       "      <th>13</th>\n",
       "      <td>A002 R051 02-00-00 59 ST</td>\n",
       "      <td>09/04/2020</td>\n",
       "      <td>44721098</td>\n",
       "      <td>15207001</td>\n",
       "      <td>3185.0</td>\n",
       "      <td>1255.0</td>\n",
       "    </tr>\n",
       "    <tr>\n",
       "      <th>14</th>\n",
       "      <td>A002 R051 02-00-00 59 ST</td>\n",
       "      <td>09/05/2020</td>\n",
       "      <td>44724185</td>\n",
       "      <td>15208053</td>\n",
       "      <td>3087.0</td>\n",
       "      <td>1052.0</td>\n",
       "    </tr>\n",
       "    <tr>\n",
       "      <th>15</th>\n",
       "      <td>A002 R051 02-00-00 59 ST</td>\n",
       "      <td>09/06/2020</td>\n",
       "      <td>44726424</td>\n",
       "      <td>15208740</td>\n",
       "      <td>2239.0</td>\n",
       "      <td>687.0</td>\n",
       "    </tr>\n",
       "    <tr>\n",
       "      <th>16</th>\n",
       "      <td>A002 R051 02-00-00 59 ST</td>\n",
       "      <td>09/07/2020</td>\n",
       "      <td>44728130</td>\n",
       "      <td>15209351</td>\n",
       "      <td>1706.0</td>\n",
       "      <td>611.0</td>\n",
       "    </tr>\n",
       "    <tr>\n",
       "      <th>17</th>\n",
       "      <td>A002 R051 02-00-00 59 ST</td>\n",
       "      <td>09/08/2020</td>\n",
       "      <td>44730537</td>\n",
       "      <td>15210335</td>\n",
       "      <td>2407.0</td>\n",
       "      <td>984.0</td>\n",
       "    </tr>\n",
       "    <tr>\n",
       "      <th>18</th>\n",
       "      <td>A002 R051 02-00-00 59 ST</td>\n",
       "      <td>09/09/2020</td>\n",
       "      <td>44733877</td>\n",
       "      <td>15211634</td>\n",
       "      <td>3340.0</td>\n",
       "      <td>1299.0</td>\n",
       "    </tr>\n",
       "    <tr>\n",
       "      <th>19</th>\n",
       "      <td>A002 R051 02-00-00 59 ST</td>\n",
       "      <td>09/10/2020</td>\n",
       "      <td>44737223</td>\n",
       "      <td>15213024</td>\n",
       "      <td>3346.0</td>\n",
       "      <td>1390.0</td>\n",
       "    </tr>\n",
       "    <tr>\n",
       "      <th>20</th>\n",
       "      <td>A002 R051 02-00-00 59 ST</td>\n",
       "      <td>09/11/2020</td>\n",
       "      <td>44740126</td>\n",
       "      <td>15214383</td>\n",
       "      <td>2903.0</td>\n",
       "      <td>1359.0</td>\n",
       "    </tr>\n",
       "    <tr>\n",
       "      <th>21</th>\n",
       "      <td>A002 R051 02-00-00 59 ST</td>\n",
       "      <td>09/12/2020</td>\n",
       "      <td>44769699</td>\n",
       "      <td>15219434</td>\n",
       "      <td>29573.0</td>\n",
       "      <td>5051.0</td>\n",
       "    </tr>\n",
       "    <tr>\n",
       "      <th>22</th>\n",
       "      <td>A002 R051 02-00-00 59 ST</td>\n",
       "      <td>09/13/2020</td>\n",
       "      <td>44744899</td>\n",
       "      <td>15216052</td>\n",
       "      <td>-24800.0</td>\n",
       "      <td>-3382.0</td>\n",
       "    </tr>\n",
       "    <tr>\n",
       "      <th>23</th>\n",
       "      <td>A002 R051 02-00-00 59 ST</td>\n",
       "      <td>09/14/2020</td>\n",
       "      <td>44746633</td>\n",
       "      <td>15217068</td>\n",
       "      <td>1734.0</td>\n",
       "      <td>1016.0</td>\n",
       "    </tr>\n",
       "    <tr>\n",
       "      <th>24</th>\n",
       "      <td>A002 R051 02-00-00 59 ST</td>\n",
       "      <td>09/15/2020</td>\n",
       "      <td>44749315</td>\n",
       "      <td>15218460</td>\n",
       "      <td>2682.0</td>\n",
       "      <td>1392.0</td>\n",
       "    </tr>\n",
       "    <tr>\n",
       "      <th>25</th>\n",
       "      <td>A002 R051 02-00-00 59 ST</td>\n",
       "      <td>09/16/2020</td>\n",
       "      <td>44752592</td>\n",
       "      <td>15219888</td>\n",
       "      <td>3277.0</td>\n",
       "      <td>1428.0</td>\n",
       "    </tr>\n",
       "    <tr>\n",
       "      <th>26</th>\n",
       "      <td>A002 R051 02-00-00 59 ST</td>\n",
       "      <td>09/17/2020</td>\n",
       "      <td>44755889</td>\n",
       "      <td>15221309</td>\n",
       "      <td>3297.0</td>\n",
       "      <td>1421.0</td>\n",
       "    </tr>\n",
       "    <tr>\n",
       "      <th>27</th>\n",
       "      <td>A002 R051 02-00-00 59 ST</td>\n",
       "      <td>09/18/2020</td>\n",
       "      <td>44759113</td>\n",
       "      <td>15222640</td>\n",
       "      <td>3224.0</td>\n",
       "      <td>1331.0</td>\n",
       "    </tr>\n",
       "  </tbody>\n",
       "</table>\n",
       "</div>"
      ],
      "text/plain": [
       "                   Turnstile        DATE   ENTRIES  \\\n",
       "0   A002 R051 02-00-00 59 ST  08/22/2020  44687289   \n",
       "1   A002 R051 02-00-00 59 ST  08/23/2020  44688978   \n",
       "2   A002 R051 02-00-00 59 ST  08/24/2020  44690684   \n",
       "3   A002 R051 02-00-00 59 ST  08/25/2020  44693549   \n",
       "4   A002 R051 02-00-00 59 ST  08/26/2020  44696514   \n",
       "5   A002 R051 02-00-00 59 ST  08/27/2020  44699319   \n",
       "6   A002 R051 02-00-00 59 ST  08/28/2020  44702445   \n",
       "7   A002 R051 02-00-00 59 ST  08/29/2020  44705127   \n",
       "8   A002 R051 02-00-00 59 ST  08/30/2020  44706856   \n",
       "9   A002 R051 02-00-00 59 ST  08/31/2020  44708630   \n",
       "10  A002 R051 02-00-00 59 ST  09/01/2020  44711777   \n",
       "11  A002 R051 02-00-00 59 ST  09/02/2020  44714663   \n",
       "12  A002 R051 02-00-00 59 ST  09/03/2020  44717913   \n",
       "13  A002 R051 02-00-00 59 ST  09/04/2020  44721098   \n",
       "14  A002 R051 02-00-00 59 ST  09/05/2020  44724185   \n",
       "15  A002 R051 02-00-00 59 ST  09/06/2020  44726424   \n",
       "16  A002 R051 02-00-00 59 ST  09/07/2020  44728130   \n",
       "17  A002 R051 02-00-00 59 ST  09/08/2020  44730537   \n",
       "18  A002 R051 02-00-00 59 ST  09/09/2020  44733877   \n",
       "19  A002 R051 02-00-00 59 ST  09/10/2020  44737223   \n",
       "20  A002 R051 02-00-00 59 ST  09/11/2020  44740126   \n",
       "21  A002 R051 02-00-00 59 ST  09/12/2020  44769699   \n",
       "22  A002 R051 02-00-00 59 ST  09/13/2020  44744899   \n",
       "23  A002 R051 02-00-00 59 ST  09/14/2020  44746633   \n",
       "24  A002 R051 02-00-00 59 ST  09/15/2020  44749315   \n",
       "25  A002 R051 02-00-00 59 ST  09/16/2020  44752592   \n",
       "26  A002 R051 02-00-00 59 ST  09/17/2020  44755889   \n",
       "27  A002 R051 02-00-00 59 ST  09/18/2020  44759113   \n",
       "\n",
       "    EXITS                                                                 \\\n",
       "0                                            15193417                      \n",
       "1                                            15194051                      \n",
       "2                                            15194835                      \n",
       "3                                            15195987                      \n",
       "4                                            15197069                      \n",
       "5                                            15198274                      \n",
       "6                                            15199547                      \n",
       "7                                            15200485                      \n",
       "8                                            15201071                      \n",
       "9                                            15201988                      \n",
       "10                                           15203251                      \n",
       "11                                           15204492                      \n",
       "12                                           15205746                      \n",
       "13                                           15207001                      \n",
       "14                                           15208053                      \n",
       "15                                           15208740                      \n",
       "16                                           15209351                      \n",
       "17                                           15210335                      \n",
       "18                                           15211634                      \n",
       "19                                           15213024                      \n",
       "20                                           15214383                      \n",
       "21                                           15219434                      \n",
       "22                                           15216052                      \n",
       "23                                           15217068                      \n",
       "24                                           15218460                      \n",
       "25                                           15219888                      \n",
       "26                                           15221309                      \n",
       "27                                           15222640                      \n",
       "\n",
       "    non_cum_entries  non_cum_exits  \n",
       "0               NaN            NaN  \n",
       "1            1689.0          634.0  \n",
       "2            1706.0          784.0  \n",
       "3            2865.0         1152.0  \n",
       "4            2965.0         1082.0  \n",
       "5            2805.0         1205.0  \n",
       "6            3126.0         1273.0  \n",
       "7            2682.0          938.0  \n",
       "8            1729.0          586.0  \n",
       "9            1774.0          917.0  \n",
       "10           3147.0         1263.0  \n",
       "11           2886.0         1241.0  \n",
       "12           3250.0         1254.0  \n",
       "13           3185.0         1255.0  \n",
       "14           3087.0         1052.0  \n",
       "15           2239.0          687.0  \n",
       "16           1706.0          611.0  \n",
       "17           2407.0          984.0  \n",
       "18           3340.0         1299.0  \n",
       "19           3346.0         1390.0  \n",
       "20           2903.0         1359.0  \n",
       "21          29573.0         5051.0  \n",
       "22         -24800.0        -3382.0  \n",
       "23           1734.0         1016.0  \n",
       "24           2682.0         1392.0  \n",
       "25           3277.0         1428.0  \n",
       "26           3297.0         1421.0  \n",
       "27           3224.0         1331.0  "
      ]
     },
     "execution_count": 123,
     "metadata": {},
     "output_type": "execute_result"
    }
   ],
   "source": [
    "# Getting a single turnstile\n",
    "\n",
    "one_turn = t_d_grouped_df_2[t_d_grouped_df_2['Turnstile'] == 'A002 R051 02-00-00 59 ST']\n",
    "\n",
    "\n",
    "one_turn.head(30)"
   ]
  },
  {
   "cell_type": "markdown",
   "metadata": {},
   "source": [
    "### anomalies present at DATE = 09/12/2020 and 09/13/2020"
   ]
  },
  {
   "cell_type": "code",
   "execution_count": 114,
   "metadata": {},
   "outputs": [
    {
     "name": "stderr",
     "output_type": "stream",
     "text": [
      "<ipython-input-114-898d9559cd16>:1: SettingWithCopyWarning: \n",
      "A value is trying to be set on a copy of a slice from a DataFrame\n",
      "\n",
      "See the caveats in the documentation: https://pandas.pydata.org/pandas-docs/stable/user_guide/indexing.html#returning-a-view-versus-a-copy\n",
      "  one_turn.dropna(axis = 0, inplace = True)\n"
     ]
    }
   ],
   "source": [
    "\n",
    "one_turn.dropna(axis = 0, inplace = True)"
   ]
  },
  {
   "cell_type": "code",
   "execution_count": 116,
   "metadata": {},
   "outputs": [
    {
     "data": {
      "text/plain": [
       "<AxesSubplot:xlabel='DATE'>"
      ]
     },
     "execution_count": 116,
     "metadata": {},
     "output_type": "execute_result"
    },
    {
     "data": {
      "image/png": "[encoded data removed]",
      "text/plain": [
       "<Figure size 432x288 with 1 Axes>"
      ]
     },
     "metadata": {
      "needs_background": "light"
     },
     "output_type": "display_data"
    }
   ],
   "source": [
    "one_turn.plot('DATE', 'non_cum_entries')"
   ]
  },
  {
   "cell_type": "code",
   "execution_count": 124,
   "metadata": {},
   "outputs": [
    {
     "data": {
      "image/png": "[encoded data removed]",
      "text/plain": [
       "<Figure size 432x288 with 1 Axes>"
      ]
     },
     "metadata": {
      "needs_background": "light"
     },
     "output_type": "display_data"
    }
   ],
   "source": [
    "# removing anomalies\n",
    "\n",
    "mask = (one_turn['non_cum_entries'] > 0) & (one_turn['non_cum_entries'] < 5000)\n",
    "\n",
    "one_turn.loc[mask].plot('DATE', 'non_cum_entries');"
   ]
  },
  {
   "cell_type": "code",
   "execution_count": 130,
   "metadata": {},
   "outputs": [
    {
     "data": {
      "text/plain": [
       " 1706.0     2\n",
       " 2682.0     2\n",
       " 3224.0     1\n",
       " 3250.0     1\n",
       " 2865.0     1\n",
       " 2965.0     1\n",
       " 2805.0     1\n",
       " 3126.0     1\n",
       " 1729.0     1\n",
       " 1774.0     1\n",
       " 3147.0     1\n",
       " 2886.0     1\n",
       " 3185.0     1\n",
       " 3297.0     1\n",
       " 3087.0     1\n",
       " 2239.0     1\n",
       " 2407.0     1\n",
       " 3340.0     1\n",
       " 3346.0     1\n",
       " 2903.0     1\n",
       "-24800.0    1\n",
       " 1734.0     1\n",
       " 29573.0    1\n",
       " 3277.0     1\n",
       " 1689.0     1\n",
       "Name: non_cum_entries, dtype: int64"
      ]
     },
     "execution_count": 130,
     "metadata": {},
     "output_type": "execute_result"
    }
   ],
   "source": [
    "# How many outliers are there?\n",
    "\n",
    "one_turn['non_cum_entries'].value_counts()"
   ]
  },
  {
   "cell_type": "code",
   "execution_count": 135,
   "metadata": {},
   "outputs": [
    {
     "ename": "TypeError",
     "evalue": "'module' object is not callable",
     "output_type": "error",
     "traceback": [
      "\u001b[0;31m---------------------------------------------------------------------------\u001b[0m",
      "\u001b[0;31mTypeError\u001b[0m                                 Traceback (most recent call last)",
      "\u001b[0;32m<ipython-input-135-4841dd71aba4>\u001b[0m in \u001b[0;36m<module>\u001b[0;34m\u001b[0m\n\u001b[0;32m----> 1\u001b[0;31m \u001b[0mplt\u001b[0m\u001b[0;34m.\u001b[0m\u001b[0mfigure\u001b[0m\u001b[0;34m(\u001b[0m\u001b[0mfigsize\u001b[0m\u001b[0;34m=\u001b[0m\u001b[0;34m(\u001b[0m\u001b[0;36m10\u001b[0m\u001b[0;34m,\u001b[0m\u001b[0;36m3\u001b[0m\u001b[0;34m)\u001b[0m\u001b[0;34m)\u001b[0m\u001b[0;34m\u001b[0m\u001b[0;34m\u001b[0m\u001b[0m\n\u001b[0m\u001b[1;32m      2\u001b[0m \u001b[0mplt\u001b[0m\u001b[0;34m.\u001b[0m\u001b[0mplot\u001b[0m\u001b[0;34m(\u001b[0m\u001b[0mone_turn\u001b[0m\u001b[0;34m[\u001b[0m\u001b[0;34m'DATE'\u001b[0m\u001b[0;34m]\u001b[0m\u001b[0;34m,\u001b[0m \u001b[0mone_turn\u001b[0m\u001b[0;34m[\u001b[0m\u001b[0;34m'non_cum_entries'\u001b[0m\u001b[0;34m]\u001b[0m\u001b[0;34m)\u001b[0m\u001b[0;34m\u001b[0m\u001b[0;34m\u001b[0m\u001b[0m\n",
      "\u001b[0;31mTypeError\u001b[0m: 'module' object is not callable"
     ]
    }
   ],
   "source": [
    "plt.figure(figsize=(10,3))\n",
    "plt.plot(one_turn['DATE'], one_turn['non_cum_entries'])"
   ]
  },
  {
   "cell_type": "code",
   "execution_count": null,
   "metadata": {},
   "outputs": [],
   "source": []
  }
 ],
 "metadata": {
  "kernelspec": {
   "display_name": "Python [conda env:metis] *",
   "language": "python",
   "name": "conda-env-metis-py"
  },
  "language_info": {
   "codemirror_mode": {
    "name": "ipython",
    "version": 3
   },
   "file_extension": ".py",
   "mimetype": "text/x-python",
   "name": "python",
   "nbconvert_exporter": "python",
   "pygments_lexer": "ipython3",
   "version": "3.8.5"
  }
 },
 "nbformat": 4,
 "nbformat_minor": 4
}
